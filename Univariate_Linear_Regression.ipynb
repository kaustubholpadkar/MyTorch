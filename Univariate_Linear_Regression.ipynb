{
  "nbformat": 4,
  "nbformat_minor": 0,
  "metadata": {
    "colab": {
      "name": "Univariate Linear Regression.ipynb",
      "version": "0.3.2",
      "provenance": [],
      "collapsed_sections": [],
      "include_colab_link": true
    },
    "kernelspec": {
      "name": "python3",
      "display_name": "Python 3"
    },
    "accelerator": "TPU"
  },
  "cells": [
    {
      "cell_type": "markdown",
      "metadata": {
        "id": "view-in-github",
        "colab_type": "text"
      },
      "source": [
        "<a href=\"https://colab.research.google.com/github/kaustubholpadkar/MyTorch/blob/modules%2Ftensors_autodiff/Univariate_Linear_Regression.ipynb\" target=\"_parent\"><img src=\"https://colab.research.google.com/assets/colab-badge.svg\" alt=\"Open In Colab\"/></a>"
      ]
    },
    {
      "metadata": {
        "id": "abJ6MwUcA0O3",
        "colab_type": "text"
      },
      "cell_type": "markdown",
      "source": [
        "### Import Libraries"
      ]
    },
    {
      "metadata": {
        "id": "dbj5GkpaAfgn",
        "colab_type": "code",
        "colab": {}
      },
      "cell_type": "code",
      "source": [
        "import torch\n",
        "import matplotlib.pyplot as plt"
      ],
      "execution_count": 0,
      "outputs": []
    },
    {
      "metadata": {
        "id": "j7xBLokiQkuh",
        "colab_type": "text"
      },
      "cell_type": "markdown",
      "source": [
        "### Plotting Function"
      ]
    },
    {
      "metadata": {
        "id": "0ufF3PuzQnHM",
        "colab_type": "code",
        "colab": {}
      },
      "cell_type": "code",
      "source": [
        "def plot(data, y_label=\"\", x_label=\"\"):\n",
        "    plt.plot(data)\n",
        "    plt.xlabel(x_label)\n",
        "    plt.ylabel(y_label)"
      ],
      "execution_count": 0,
      "outputs": []
    },
    {
      "metadata": {
        "id": "8r1O3tzMByJk",
        "colab_type": "text"
      },
      "cell_type": "markdown",
      "source": [
        "### Generate Dummy Data Function"
      ]
    },
    {
      "metadata": {
        "id": "VKSte1ycCiFB",
        "colab_type": "code",
        "colab": {}
      },
      "cell_type": "code",
      "source": [
        "def gen_data(N, M, B):\n",
        "    \n",
        "    X = torch.rand(N)\n",
        "    y = M * torch.rand(N) + B\n",
        "    \n",
        "    return X, y"
      ],
      "execution_count": 0,
      "outputs": []
    },
    {
      "metadata": {
        "id": "VUqcU8MLDNAN",
        "colab_type": "text"
      },
      "cell_type": "markdown",
      "source": [
        "### Linear Regression"
      ]
    },
    {
      "metadata": {
        "id": "GOvy8JqiDPlS",
        "colab_type": "code",
        "colab": {}
      },
      "cell_type": "code",
      "source": [
        "class LinearRegression:\n",
        "    \n",
        "    \n",
        "    def __init__(self):\n",
        "        \n",
        "        self.m = torch.tensor(0.0, requires_grad=True)\n",
        "        self.b = torch.tensor(0.0, requires_grad=True)\n",
        "        \n",
        "\n",
        "        \n",
        "    def fit(self, X, y, learning_rate, max_iterations):\n",
        "        \n",
        "        learning_rate = torch.tensor(learning_rate)\n",
        "        \n",
        "        losses = []\n",
        "        \n",
        "        for i in range(max_iterations):\n",
        "            \n",
        "            dm, db = self.gradients(X, y)\n",
        "            \n",
        "            with torch.no_grad():\n",
        "                \n",
        "                self.m -= learning_rate * dm\n",
        "                self.b -= learning_rate * db\n",
        "            \n",
        "                self.reset_gradients()\n",
        "            \n",
        "                loss = self.loss(X, y).item()\n",
        "                losses.append(loss)\n",
        "            \n",
        "        return losses\n",
        "    \n",
        "    \n",
        "    def predict(self, X):\n",
        "        \n",
        "        y_pred = self.m * X + self.b\n",
        "        \n",
        "        return y_pred\n",
        "    \n",
        "    \n",
        "    def gradients(self, X, y):\n",
        "        \n",
        "        loss = self.loss(X, y)\n",
        "        loss.backward()\n",
        "        \n",
        "        dm = self.m.grad\n",
        "        db = self.b.grad\n",
        "        \n",
        "        return dm, db\n",
        "    \n",
        "    \n",
        "    def reset_gradients(self):\n",
        "        \n",
        "        self.m.grad.zero_()\n",
        "        self.b.grad.zero_()\n",
        "    \n",
        "    \n",
        "    def loss(self, X, y):\n",
        "        \n",
        "        y_pred = self.predict(X)\n",
        "        \n",
        "        diff = y - y_pred\n",
        "        \n",
        "        loss = torch.sum(diff * diff) / diff.numel()\n",
        "        \n",
        "        return loss"
      ],
      "execution_count": 0,
      "outputs": []
    },
    {
      "metadata": {
        "id": "7T31cQMoBN3o",
        "colab_type": "text"
      },
      "cell_type": "markdown",
      "source": [
        "### Original Parameters"
      ]
    },
    {
      "metadata": {
        "id": "3qpRWG1YBJDr",
        "colab_type": "code",
        "colab": {}
      },
      "cell_type": "code",
      "source": [
        "M = 3.4\n",
        "B = 6.7"
      ],
      "execution_count": 0,
      "outputs": []
    },
    {
      "metadata": {
        "id": "2To5xX4hBoH6",
        "colab_type": "text"
      },
      "cell_type": "markdown",
      "source": [
        "### Hyperparameters"
      ]
    },
    {
      "metadata": {
        "id": "IR5i6KiYBm6z",
        "colab_type": "code",
        "colab": {}
      },
      "cell_type": "code",
      "source": [
        "learning_rate = 0.03\n",
        "max_iterations = 100"
      ],
      "execution_count": 0,
      "outputs": []
    },
    {
      "metadata": {
        "id": "npqRRgjACXhn",
        "colab_type": "text"
      },
      "cell_type": "markdown",
      "source": [
        "### Other Parameters"
      ]
    },
    {
      "metadata": {
        "id": "3uuivMU-CaN8",
        "colab_type": "code",
        "colab": {}
      },
      "cell_type": "code",
      "source": [
        "N = 100"
      ],
      "execution_count": 0,
      "outputs": []
    },
    {
      "metadata": {
        "id": "tGmp65rGRRsN",
        "colab_type": "text"
      },
      "cell_type": "markdown",
      "source": [
        "### Generate Dummy Data"
      ]
    },
    {
      "metadata": {
        "id": "98dfitSVB06Z",
        "colab_type": "code",
        "colab": {}
      },
      "cell_type": "code",
      "source": [
        "X, y = gen_data(N, M, B)"
      ],
      "execution_count": 0,
      "outputs": []
    },
    {
      "metadata": {
        "id": "nLF5fSHwKoeD",
        "colab_type": "text"
      },
      "cell_type": "markdown",
      "source": [
        "### Create Model"
      ]
    },
    {
      "metadata": {
        "id": "7CX6xp0NBuW6",
        "colab_type": "code",
        "colab": {}
      },
      "cell_type": "code",
      "source": [
        "model = LinearRegression()"
      ],
      "execution_count": 0,
      "outputs": []
    },
    {
      "metadata": {
        "id": "9Hu21OWeKruo",
        "colab_type": "code",
        "colab": {}
      },
      "cell_type": "code",
      "source": [
        "losses = model.fit(X, y, learning_rate, max_iterations)"
      ],
      "execution_count": 0,
      "outputs": []
    },
    {
      "metadata": {
        "id": "u3V4FeqEKzy6",
        "colab_type": "code",
        "colab": {
          "base_uri": "https://localhost:8080/",
          "height": 347
        },
        "outputId": "6a555738-099c-4133-b85b-468eecc9314b"
      },
      "cell_type": "code",
      "source": [
        "plot(losses)"
      ],
      "execution_count": 121,
      "outputs": [
        {
          "output_type": "display_data",
          "data": {
            "image/png": "[encoded data removed]",
            "text/plain": [
              "<Figure size 576x396 with 1 Axes>"
            ]
          },
          "metadata": {
            "tags": []
          }
        }
      ]
    }
  ]
}